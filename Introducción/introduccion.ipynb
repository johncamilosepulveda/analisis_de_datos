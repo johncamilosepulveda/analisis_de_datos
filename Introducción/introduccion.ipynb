{
 "cells": [
  {
   "cell_type": "code",
   "execution_count": 1,
   "metadata": {},
   "outputs": [
    {
     "name": "stdout",
     "output_type": "stream",
     "text": [
      "[1, 2, 3, 4]\n",
      "[1, 2]\n"
     ]
    }
   ],
   "source": [
    "lista_nueva = [1, 3, 4, 5]\n",
    "\n",
    "#Corregir una lista\n",
    "\n",
    "lista_nueva[1] = 2\n",
    "lista_nueva[2] = 3\n",
    "lista_nueva[3] = 4\n",
    "\n",
    "print(lista_nueva)\n",
    "print(lista_nueva[0:2])"
   ]
  },
  {
   "cell_type": "code",
   "execution_count": 3,
   "metadata": {},
   "outputs": [
    {
     "name": "stdout",
     "output_type": "stream",
     "text": [
      "[1, 7, 8, 4]\n"
     ]
    }
   ],
   "source": [
    "lista_nueva[1:3] = [7, 8]\n",
    "\n",
    "print(lista_nueva)"
   ]
  },
  {
   "cell_type": "code",
   "execution_count": 5,
   "metadata": {},
   "outputs": [
    {
     "name": "stdout",
     "output_type": "stream",
     "text": [
      "[1, 7, 8, 4, 10, [2, 3, 5], 10, 2, 3, 5]\n"
     ]
    }
   ],
   "source": [
    "#append -> Agregar un elemento\n",
    "#extend -> Agregar una lista de elementos\n",
    "\n",
    "lista_nueva.append(10)\n",
    "\n",
    "lista_nueva.extend([2, 3, 5])\n",
    "\n",
    "print(lista_nueva)"
   ]
  },
  {
   "cell_type": "code",
   "execution_count": 6,
   "metadata": {},
   "outputs": [
    {
     "name": "stdout",
     "output_type": "stream",
     "text": [
      "1\n",
      "7\n",
      "8\n",
      "4\n",
      "10\n",
      "[2, 3, 5]\n",
      "10\n",
      "2\n",
      "3\n",
      "5\n"
     ]
    }
   ],
   "source": [
    "for item in lista_nueva:\n",
    "    print(item)"
   ]
  },
  {
   "cell_type": "code",
   "execution_count": 7,
   "metadata": {},
   "outputs": [
    {
     "name": "stdout",
     "output_type": "stream",
     "text": [
      "('Juan', 1, 4.4)\n"
     ]
    }
   ],
   "source": [
    "#Tuplas\n",
    "\n",
    "tupla = ()\n",
    "\n",
    "tupla_enteros = (1, 2, 3, 4, 5)\n",
    "tupla_mixta = ('Juan', 1, 4.4)\n",
    "tupla_anidada = ('Juan', 1, 4, (1, 4, 5))\n",
    "\n",
    "print(tupla_mixta)"
   ]
  },
  {
   "cell_type": "code",
   "execution_count": 9,
   "metadata": {},
   "outputs": [
    {
     "name": "stdout",
     "output_type": "stream",
     "text": [
      "1\n"
     ]
    }
   ],
   "source": [
    "print(tupla_enteros[0])"
   ]
  },
  {
   "cell_type": "code",
   "execution_count": 10,
   "metadata": {},
   "outputs": [
    {
     "name": "stdout",
     "output_type": "stream",
     "text": [
      "{'name': 'Juan', 'edad': 25, 1: '875654', 'lista': [1, 2, 4, 5]}\n"
     ]
    }
   ],
   "source": [
    "#Diccionarios\n",
    "# {\"key\":\"value\", \"key2\":\"value2\"}\n",
    "\n",
    "diccionario = {}\n",
    "\n",
    "diccionario_enterios = {1: \"Juan\", 2: \"Maria\"}\n",
    "diccionario_mixta = {'name': \"Juan\", \"edad\": 25, 1: \"875654\", \"lista\": [1, 2, 4, 5]}\n",
    "\n",
    "print(diccionario_mixta)"
   ]
  },
  {
   "cell_type": "code",
   "execution_count": 11,
   "metadata": {},
   "outputs": [
    {
     "name": "stdout",
     "output_type": "stream",
     "text": [
      "Juan\n",
      "25\n",
      "875654\n"
     ]
    }
   ],
   "source": [
    "print(diccionario_mixta['name'])\n",
    "print(diccionario_mixta[\"edad\"])\n",
    "print(diccionario_mixta[1])"
   ]
  },
  {
   "cell_type": "code",
   "execution_count": 13,
   "metadata": {},
   "outputs": [
    {
     "name": "stdout",
     "output_type": "stream",
     "text": [
      "Juan\n",
      "25\n",
      "None\n"
     ]
    }
   ],
   "source": [
    "diccionario_mixta = {'name': \"Juan\", 'age': 25}\n",
    "\n",
    "print(diccionario_mixta['name'])\n",
    "print(diccionario_mixta['age'])\n",
    "print(diccionario_mixta.get('address'))"
   ]
  },
  {
   "cell_type": "code",
   "execution_count": 14,
   "metadata": {},
   "outputs": [
    {
     "name": "stdout",
     "output_type": "stream",
     "text": [
      "{'name': 'Juan', 'age': 25, 'id': 95578}\n"
     ]
    }
   ],
   "source": [
    "diccionario_mixta[\"id\"] = 95578\n",
    "print(diccionario_mixta)"
   ]
  },
  {
   "cell_type": "code",
   "execution_count": 19,
   "metadata": {},
   "outputs": [
    {
     "name": "stdout",
     "output_type": "stream",
     "text": [
      "('name', 'Juan')\n",
      "('age', 25)\n",
      "('id', 95578)\n"
     ]
    }
   ],
   "source": [
    "for item in diccionario_mixta.items():\n",
    "    print(item)"
   ]
  },
  {
   "cell_type": "code",
   "execution_count": 20,
   "metadata": {},
   "outputs": [
    {
     "name": "stdout",
     "output_type": "stream",
     "text": [
      "5 es mayor que cero y positivo\n"
     ]
    }
   ],
   "source": [
    "#Control de flujo\n",
    "\n",
    "#if\n",
    "\n",
    "num = 5\n",
    "\n",
    "if num > 0:\n",
    "    print(num, \"es mayor que cero y positivo\")\n",
    "\n",
    "else:\n",
    "    print(num, \"es negativo positivo\")\n",
    "\n"
   ]
  },
  {
   "cell_type": "code",
   "execution_count": 24,
   "metadata": {},
   "outputs": [
    {
     "name": "stdout",
     "output_type": "stream",
     "text": [
      "el número es negativo\n"
     ]
    }
   ],
   "source": [
    "num = int(input(\"Ingresa un número: \"))\n",
    "\n",
    "if num >= 0:\n",
    "    if num == 0:\n",
    "        print(\"el número ingresado es 0\")\n",
    "    else:\n",
    "        print(\"el número es positivo\")\n",
    "else:\n",
    "    print(\"el número es negativo\")"
   ]
  },
  {
   "cell_type": "code",
   "execution_count": 25,
   "metadata": {},
   "outputs": [
    {
     "name": "stdout",
     "output_type": "stream",
     "text": [
      "el número ingresado es 5\n"
     ]
    }
   ],
   "source": [
    "num = int(input(\"Ingresa un número: \"))\n",
    "\n",
    "if num >= 0:\n",
    "    if num == 0:\n",
    "        print(\"el número ingresado es 0\")\n",
    "    elif num == 5:\n",
    "        print(\"el número ingresado es 5\")\n",
    "    else:\n",
    "        print(\"el número es positivo\")\n",
    "else:\n",
    "    print(\"el número es negativo\")"
   ]
  },
  {
   "cell_type": "code",
   "execution_count": 30,
   "metadata": {},
   "outputs": [
    {
     "name": "stdout",
     "output_type": "stream",
     "text": [
      "suma = 0\n",
      "1\n",
      "suma = 1\n",
      "2\n",
      "suma = 3\n",
      "3\n",
      "suma = 6\n",
      "4\n",
      "suma = 10\n",
      "5\n",
      "Suma total: 15\n"
     ]
    }
   ],
   "source": [
    "#For\n",
    "\n",
    "numeros = [1, 2, 3, 4, 5]\n",
    "\n",
    "suma = 0\n",
    "\n",
    "for item in numeros:\n",
    "    print(\"suma =\", suma)\n",
    "    print(item)\n",
    "    suma = suma + item\n",
    "\n",
    "print(\"Suma total:\", suma)\n"
   ]
  },
  {
   "cell_type": "code",
   "execution_count": 32,
   "metadata": {},
   "outputs": [
    {
     "name": "stdout",
     "output_type": "stream",
     "text": [
      "101475\n"
     ]
    }
   ],
   "source": [
    "#while\n",
    "\n",
    "n = 450\n",
    "suma = 0\n",
    "i = 1\n",
    "\n",
    "while i <= n:\n",
    "    suma = suma + i\n",
    "    i = i + 1\n",
    "\n",
    "print(suma)"
   ]
  },
  {
   "cell_type": "code",
   "execution_count": null,
   "metadata": {},
   "outputs": [],
   "source": [
    "#Operadores de asignación\n",
    "\n",
    "a = 5\n",
    "b = 6\n",
    "\n",
    "x = a + b\n",
    "\n",
    "x = a; x+=b; print(x)\n",
    "x = a; x-=b; print(x)\n"
   ]
  },
  {
   "cell_type": "code",
   "execution_count": 34,
   "metadata": {},
   "outputs": [],
   "source": [
    "#Funciones \n",
    " \n",
    "def suma_numeros(num):\n",
    "\n",
    "    suma = 0\n",
    "    i = 1\n",
    "\n",
    "    while i <= num:\n",
    "        suma += i\n",
    "        i += 1\n",
    "\n",
    "    return print(suma)"
   ]
  },
  {
   "cell_type": "code",
   "execution_count": 36,
   "metadata": {},
   "outputs": [
    {
     "data": {
      "text/plain": [
       "55"
      ]
     },
     "execution_count": 36,
     "metadata": {},
     "output_type": "execute_result"
    }
   ],
   "source": [
    "suma_numeros(10)"
   ]
  }
 ],
 "metadata": {
  "kernelspec": {
   "display_name": "Python 3",
   "language": "python",
   "name": "python3"
  },
  "language_info": {
   "codemirror_mode": {
    "name": "ipython",
    "version": 3
   },
   "file_extension": ".py",
   "mimetype": "text/x-python",
   "name": "python",
   "nbconvert_exporter": "python",
   "pygments_lexer": "ipython3",
   "version": "3.12.1"
  }
 },
 "nbformat": 4,
 "nbformat_minor": 2
}
